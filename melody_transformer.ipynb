{
 "cells": [
  {
   "cell_type": "code",
   "execution_count": null,
   "id": "086fe75e-0db8-4b5a-aca7-760516e3ba55",
   "metadata": {},
   "outputs": [
    {
     "name": "stderr",
     "output_type": "stream",
     "text": [
      "C:\\Users\\sagpa\\AppData\\Local\\Programs\\Python\\Python313\\Lib\\site-packages\\pygame\\pkgdata.py:25: UserWarning: pkg_resources is deprecated as an API. See https://setuptools.pypa.io/en/latest/pkg_resources.html. The pkg_resources package is slated for removal as early as 2025-11-30. Refrain from using this package or pin to Setuptools<81.\n",
      "  from pkg_resources import resource_stream, resource_exists\n"
     ]
    },
    {
     "name": "stdout",
     "output_type": "stream",
     "text": [
      "pygame 2.6.1 (SDL 2.28.4, Python 3.13.5)\n",
      "Hello from the pygame community. https://www.pygame.org/contribute.html\n"
     ]
    },
    {
     "name": "stdin",
     "output_type": "stream",
     "text": [
      "🎹 Enter a melody (e.g. C4 E4 G4 F4), or 'q' to quit:  f4 g4 a4 bb4 c5\n"
     ]
    },
    {
     "name": "stdout",
     "output_type": "stream",
     "text": [
      "\n",
      "🎶 For ['f4', 'g4', 'a4']: Predicted → C\n",
      "   ↳ C: 66.67%\n",
      "   ↳ Cm: 33.33%\n"
     ]
    },
    {
     "name": "stdin",
     "output_type": "stream",
     "text": [
      "🎹 Enter a melody (e.g. C4 E4 G4 F4), or 'q' to quit:  ab4 d#4 g4 c4\n"
     ]
    },
    {
     "name": "stdout",
     "output_type": "stream",
     "text": [
      "\n",
      "🎶 For ['ab4', 'd#4', 'g4']: Predicted → Cm\n",
      "   ↳ Cm: 66.67%\n",
      "   ↳ Fm: 33.33%\n"
     ]
    },
    {
     "name": "stdin",
     "output_type": "stream",
     "text": [
      "🎹 Enter a melody (e.g. C4 E4 G4 F4), or 'q' to quit:  f4 g#4 c5 g#4 c#5 g#4 b#4 g4\n"
     ]
    },
    {
     "name": "stdout",
     "output_type": "stream",
     "text": [
      "\n",
      "🎶 For ['f4', 'g#4', 'c5']: Predicted → Cm\n",
      "   ↳ Cm: 66.67%\n",
      "   ↳ Fm: 33.33%\n",
      "\n",
      "🎶 For ['g#4', 'c#5', 'g#4']: Predicted → Cm\n",
      "   ↳ Cm: 33.33%\n",
      "   ↳ Em: 33.33%\n",
      "   ↳ Fm: 33.33%\n"
     ]
    }
   ],
   "source": [
    "from music21 import note as m21_note, chord as m21_chord, stream\n",
    "from sklearn.neighbors import KNeighborsClassifier\n",
    "import pygame\n",
    "import time\n",
    "import os\n",
    "from training_data import training_data\n",
    "\n",
    "# makes the melody into a vector the ML can understand\n",
    "def notes_to_interval_vector(melody):\n",
    "    midi = [m21_note.Note(n).pitch.midi for n in melody]\n",
    "    return [midi[i+1] - midi[i] for i in range(len(midi)-1)]\n",
    "\n",
    "# trains the k-nn model\n",
    "X = [notes_to_interval_vector(mel) for mel, _ in training_data]\n",
    "y = [label for _, label in training_data]\n",
    "model = KNeighborsClassifier(n_neighbors=3)\n",
    "model.fit(X, y)\n",
    "\n",
    "# for the harmony of the chords\n",
    "def chord_to_notes(chord_label):\n",
    "    chord_map = {\n",
    "        \"C\": [\"C3\", \"E3\", \"G3\"],      \"Cm\": [\"C3\", \"Eb3\", \"G3\"],\n",
    "        \"C#\": [\"C#3\", \"F3\", \"G#3\"],   \"C#m\": [\"C#3\", \"E3\", \"G#3\"],\n",
    "        \"D\": [\"D3\", \"F#3\", \"A3\"],     \"Dm\": [\"D3\", \"F3\", \"A3\"],\n",
    "        \"D#\": [\"D#3\", \"G3\", \"A#3\"],   \"D#m\": [\"D#3\", \"F#3\", \"A#3\"],\n",
    "        \"E\": [\"E3\", \"G#3\", \"B3\"],     \"Em\": [\"E3\", \"G3\", \"B3\"],\n",
    "        \"F\": [\"F3\", \"A3\", \"C4\"],      \"Fm\": [\"F3\", \"Ab3\", \"C4\"],\n",
    "        \"F#\": [\"F#3\", \"A#3\", \"C#4\"],  \"F#m\": [\"F#3\", \"A3\", \"C#4\"],\n",
    "        \"G\": [\"G2\", \"B2\", \"D3\"],      \"Gm\": [\"G2\", \"Bb2\", \"D3\"],\n",
    "        \"G#\": [\"G#2\", \"C3\", \"D#3\"],   \"G#m\": [\"G#2\", \"B2\", \"D#3\"],\n",
    "        \"A\": [\"A2\", \"C#3\", \"E3\"],     \"Am\": [\"A2\", \"C3\", \"E3\"],\n",
    "        \"A#\": [\"A#2\", \"D3\", \"F3\"],    \"A#m\": [\"A#2\", \"C#3\", \"F3\"],\n",
    "        \"B\": [\"B2\", \"D#3\", \"F#3\"],    \"Bm\": [\"B2\", \"D3\", \"F#3\"],\n",
    "    }\n",
    "    return chord_map.get(chord_label, [\"C3\", \"E3\", \"G3\"])\n",
    "\n",
    "# prompts user for input\n",
    "while True:\n",
    "    user_input = input(\"🎹 Enter a melody (e.g. C4 E4 G4 F4), or 'q' to quit: \").strip()\n",
    "    if user_input.lower() == \"q\":\n",
    "        print(\"👋 Catch you next time!\")\n",
    "        break\n",
    "\n",
    "    notes = user_input.split()\n",
    "    if len(notes) < 3:\n",
    "        print(\"❗️ Please enter at least 3 notes.\")\n",
    "        continue\n",
    "\n",
    "    chunks = [notes[i:i+3] for i in range(0, len(notes), 3)]\n",
    "    predicted_chords = []\n",
    "\n",
    "    for chunk in chunks:\n",
    "        if len(chunk) == 3:\n",
    "            ivector = notes_to_interval_vector(chunk)\n",
    "            prediction = model.predict([ivector])[0]\n",
    "            probs = model.predict_proba([ivector])[0]\n",
    "            print(f\"\\n🎶 For {chunk}: Predicted → {prediction}\")\n",
    "            for chord, prob in zip(model.classes_, probs):\n",
    "                if prob > 0.01:\n",
    "                    print(f\"   ↳ {chord}: {round(prob * 100, 2)}%\")\n",
    "            predicted_chords.append(prediction)\n",
    "\n",
    "    # makes the sounds together\n",
    "    melody_stream = stream.Part()\n",
    "    for pitch in notes:\n",
    "        melody_stream.append(m21_note.Note(pitch, quarterLength=0.5))\n",
    "\n",
    "    chord_stream = stream.Part()\n",
    "    for label in predicted_chords:\n",
    "        c = m21_chord.Chord(chord_to_notes(label), quarterLength=1.5)\n",
    "        chord_stream.append(c)\n",
    "\n",
    "    combined = stream.Stream()\n",
    "    combined.append(chord_stream)\n",
    "    combined.append(melody_stream)\n",
    "\n",
    "    path = os.path.abspath(\"interval_live.mid\")\n",
    "    combined.write('midi', fp=path)\n",
    "\n",
    "    # play the sounds\n",
    "    pygame.init()\n",
    "    pygame.mixer.init()\n",
    "    pygame.mixer.music.load(path)\n",
    "    pygame.mixer.music.play()\n",
    "    while pygame.mixer.music.get_busy():\n",
    "        time.sleep(0.5)"
   ]
  }
 ],
 "metadata": {
  "kernelspec": {
   "display_name": "Python 3 (ipykernel)",
   "language": "python",
   "name": "python3"
  },
  "language_info": {
   "codemirror_mode": {
    "name": "ipython",
    "version": 3
   },
   "file_extension": ".py",
   "mimetype": "text/x-python",
   "name": "python",
   "nbconvert_exporter": "python",
   "pygments_lexer": "ipython3",
   "version": "3.13.5"
  }
 },
 "nbformat": 4,
 "nbformat_minor": 5
}
